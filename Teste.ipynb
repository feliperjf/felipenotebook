{
 "cells": [
  {
   "cell_type": "code",
   "execution_count": 12,
   "id": "7fa9febb",
   "metadata": {},
   "outputs": [
    {
     "name": "stdout",
     "output_type": "stream",
     "text": [
      "[0, 1, 2, 3]\n",
      "[0, 1, 2, 3, 4, 5, 6]\n"
     ]
    }
   ],
   "source": [
    "l = [0,1,2,3]\n",
    "print(l)\n",
    "\n",
    "v = list(range(7))\n",
    "print(v)\n"
   ]
  }
 ],
 "metadata": {
  "kernelspec": {
   "display_name": "Python 3.9.7 ('base')",
   "language": "python",
   "name": "python3"
  },
  "language_info": {
   "codemirror_mode": {
    "name": "ipython",
    "version": 3
   },
   "file_extension": ".py",
   "mimetype": "text/x-python",
   "name": "python",
   "nbconvert_exporter": "python",
   "pygments_lexer": "ipython3",
   "version": "3.9.7"
  },
  "vscode": {
   "interpreter": {
    "hash": "e39469ffc2ff460788a8a8d25a95ca6ea1d826190a87a34ab8f83563ad5b824a"
   }
  }
 },
 "nbformat": 4,
 "nbformat_minor": 5
}
